{
 "cells": [
  {
   "cell_type": "code",
   "execution_count": null,
   "metadata": {},
   "outputs": [],
   "source": [
    "# Crear un conjunto en Python que posea los siguientes elementos:\n",
    "# Países: Inglaterra, USA, México.\n",
    "conjunto_paises = {\"Inglaterra\", \"USA\", \"Mexico\"}\n",
    "conjunto_paises"
   ]
  },
  {
   "cell_type": "code",
   "execution_count": null,
   "metadata": {},
   "outputs": [],
   "source": [
    "# Posteriormente agrega nuestro set de países, los elementos de: Islandia, Italia, Argentina y Portugal\n",
    "conjunto_paises.update({\"Islandia\", \"Italia\", \"Argentina\", \"Portugal\"})\n",
    "conjunto_paises"
   ]
  },
  {
   "cell_type": "code",
   "execution_count": null,
   "metadata": {},
   "outputs": [],
   "source": [
    "# Elimina a los países: Chile e Italia\n",
    "conjunto_paises.remove('Italia') \n",
    "conjunto_paises.discard('Chile') # si se colocara remove, arrojaria un mensaje de error.\n",
    "conjunto_paises"
   ]
  },
  {
   "cell_type": "code",
   "execution_count": null,
   "metadata": {},
   "outputs": [],
   "source": [
    "# Escribir un programa que le solicite al usuario su nombre, edad, dirección y que, posteriormente, lo muestre por pantalla.\n",
    "nombre = input(\"Ingrese su nombre: \")\n",
    "edad = input(\"Ingrese su edad: \")\n",
    "direccion = input(\"Ingrese su direccion de residencia: \")\n",
    "\n",
    "diccionario = {1: nombre, 2: edad, 3: direccion}\n",
    "\n",
    "print(diccionario.get(1) + \" tiene \" + diccionario.get(2) + \" años y vive en \" + diccionario.get(3) + \".\")"
   ]
  }
 ],
 "metadata": {
  "kernelspec": {
   "display_name": "Python 3",
   "language": "python",
   "name": "python3"
  },
  "language_info": {
   "codemirror_mode": {
    "name": "ipython",
    "version": 3
   },
   "file_extension": ".py",
   "mimetype": "text/x-python",
   "name": "python",
   "nbconvert_exporter": "python",
   "pygments_lexer": "ipython3",
   "version": "3.10.10"
  },
  "orig_nbformat": 4
 },
 "nbformat": 4,
 "nbformat_minor": 2
}
