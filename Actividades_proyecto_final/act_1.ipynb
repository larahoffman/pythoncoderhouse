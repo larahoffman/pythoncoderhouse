{
 "cells": [
  {
   "cell_type": "code",
   "execution_count": null,
   "metadata": {},
   "outputs": [],
   "source": [
    "'''\n",
    "Realizar una función llamada año_bisiesto:\n",
    "\n",
    "Recibirá un año por parámetro\n",
    "Imprimirá “El año año es bisiesto” si el año es bisiesto\n",
    "Imprimirá “El año año no es bisiesto” si el año no es bisiesto\n",
    "Si se ingresa algo que no sea número, debe indicar que se ingrese un número.\n",
    "'''"
   ]
  },
  {
   "cell_type": "code",
   "execution_count": 12,
   "metadata": {},
   "outputs": [
    {
     "name": "stdout",
     "output_type": "stream",
     "text": [
      "El año 2012 es bisiesto\n",
      "El año 2000 es bisiesto\n",
      "El año 2010 no es bisiesto\n",
      "El año 1900 no es bisiesto\n"
     ]
    }
   ],
   "source": [
    "def anio_bisiesto(anio):\n",
    "    if type(anio) != int:\n",
    "        return \"Por favor, ingrese un número.\"\n",
    "    elif anio % 400 == 0:\n",
    "        mensaje = f\"El año {anio} es bisiesto\"\n",
    "    elif anio % 100 == 0:\n",
    "        mensaje = f\"El año {anio} no es bisiesto\"\n",
    "    elif anio % 4 == 0:\n",
    "        mensaje = f\"El año {anio} es bisiesto\"\n",
    "    else:\n",
    "        mensaje = f\"El año {anio} no es bisiesto\"\n",
    "    print(mensaje)\n",
    "\n",
    "anio_bisiesto(2012)\n",
    "anio_bisiesto(2000)\n",
    "anio_bisiesto(2010)\n",
    "anio_bisiesto(1900)"
   ]
  }
 ],
 "metadata": {
  "kernelspec": {
   "display_name": "Python 3",
   "language": "python",
   "name": "python3"
  },
  "language_info": {
   "codemirror_mode": {
    "name": "ipython",
    "version": 3
   },
   "file_extension": ".py",
   "mimetype": "text/x-python",
   "name": "python",
   "nbconvert_exporter": "python",
   "pygments_lexer": "ipython3",
   "version": "3.10.10"
  },
  "orig_nbformat": 4
 },
 "nbformat": 4,
 "nbformat_minor": 2
}
