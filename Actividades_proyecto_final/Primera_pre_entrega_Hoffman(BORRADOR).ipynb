{
  "cells": [
    {
      "cell_type": "markdown",
      "metadata": {
        "id": "fFyrBIhkhEIv"
      },
      "source": [
        "\n",
        "#**Consigna**\n",
        "Crear un programa que permita emular el registro y almacenamiento de usuarios en una base de datos. Crear el programa utilizando el concepto de funciones, diccionarios, bucles y condicionales."
      ]
    },
    {
      "cell_type": "code",
      "execution_count": 11,
      "metadata": {
        "id": "zeVwEPi_h76A"
      },
      "outputs": [],
      "source": [
        "user = \"\"\n",
        "password = \"\"\n",
        "\n",
        "base_de_datos = {}"
      ]
    },
    {
      "cell_type": "code",
      "execution_count": 17,
      "metadata": {
        "id": "ohgxfX9B8M54"
      },
      "outputs": [],
      "source": [
        "def almacenar(bd):\n",
        "  user = input(\"Ingrese su usuario: \")\n",
        "  password = input(\"Ingrese su contraseña: \")\n",
        "  bd[user] = password"
      ]
    },
    {
      "cell_type": "code",
      "execution_count": 13,
      "metadata": {
        "id": "SPaXISC6_2eu"
      },
      "outputs": [],
      "source": [
        "def mostrar(bd):\n",
        "  return bd"
      ]
    },
    {
      "cell_type": "code",
      "execution_count": 18,
      "metadata": {},
      "outputs": [
        {
          "data": {
            "text/plain": [
              "{'usuario': '123', 'user2': 'pass2'}"
            ]
          },
          "execution_count": 18,
          "metadata": {},
          "output_type": "execute_result"
        }
      ],
      "source": [
        "almacenar(base_de_datos)\n",
        "mostrar(base_de_datos)"
      ]
    },
    {
      "cell_type": "code",
      "execution_count": 19,
      "metadata": {},
      "outputs": [],
      "source": [
        "import json\n",
        "with open('./' + 'base_de_datos.json', 'w') as file:\n",
        "    json.dump(base_de_datos, file,indent=4)"
      ]
    }
  ],
  "metadata": {
    "colab": {
      "provenance": []
    },
    "kernelspec": {
      "display_name": "Python 3",
      "name": "python3"
    },
    "language_info": {
      "codemirror_mode": {
        "name": "ipython",
        "version": 3
      },
      "file_extension": ".py",
      "mimetype": "text/x-python",
      "name": "python",
      "nbconvert_exporter": "python",
      "pygments_lexer": "ipython3",
      "version": "3.10.10"
    }
  },
  "nbformat": 4,
  "nbformat_minor": 0
}
