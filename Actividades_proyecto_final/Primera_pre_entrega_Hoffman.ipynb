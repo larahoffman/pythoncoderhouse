{
  "cells": [
    {
      "cell_type": "markdown",
      "metadata": {
        "id": "fFyrBIhkhEIv"
      },
      "source": [
        "\n",
        "#**Consigna**\n",
        "Crear un programa que permita emular el registro y almacenamiento de usuarios en una base de datos. Crear el programa utilizando el concepto de funciones, diccionarios, bucles y condicionales."
      ]
    },
    {
      "cell_type": "code",
      "execution_count": 11,
      "metadata": {
        "id": "zeVwEPi_h76A"
      },
      "outputs": [],
      "source": [
        "user = \"\"\n",
        "password = \"\"\n",
        "\n",
        "base_de_datos = {}"
      ]
    },
    {
      "cell_type": "code",
      "execution_count": 12,
      "metadata": {
        "id": "ohgxfX9B8M54"
      },
      "outputs": [],
      "source": [
        "def almacenar(bd):\n",
        "  user = input(\"Ingrese su usuario: \")\n",
        "  password = input(\"Ingrese su contraseña: \")\n",
        "  bd[user] = password"
      ]
    },
    {
      "cell_type": "code",
      "execution_count": 15,
      "metadata": {},
      "outputs": [],
      "source": [
        "almacenar(base_de_datos)"
      ]
    },
    {
      "cell_type": "code",
      "execution_count": 13,
      "metadata": {
        "id": "SPaXISC6_2eu"
      },
      "outputs": [],
      "source": [
        "def mostrar(bd):\n",
        "  return bd"
      ]
    },
    {
      "cell_type": "code",
      "execution_count": 16,
      "metadata": {},
      "outputs": [
        {
          "data": {
            "text/plain": [
              "{'usuario1': 'pass1', 'usuario2': 'pass2'}"
            ]
          },
          "execution_count": 16,
          "metadata": {},
          "output_type": "execute_result"
        }
      ],
      "source": [
        "mostrar(base_de_datos)"
      ]
    }
  ],
  "metadata": {
    "colab": {
      "provenance": []
    },
    "kernelspec": {
      "display_name": "Python 3",
      "name": "python3"
    },
    "language_info": {
      "codemirror_mode": {
        "name": "ipython",
        "version": 3
      },
      "file_extension": ".py",
      "mimetype": "text/x-python",
      "name": "python",
      "nbconvert_exporter": "python",
      "pygments_lexer": "ipython3",
      "version": "3.10.10"
    }
  },
  "nbformat": 4,
  "nbformat_minor": 0
}
