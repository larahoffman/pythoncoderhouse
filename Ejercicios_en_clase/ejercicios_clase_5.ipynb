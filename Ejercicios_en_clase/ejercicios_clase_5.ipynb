{
 "cells": [
  {
   "cell_type": "code",
   "execution_count": null,
   "metadata": {},
   "outputs": [],
   "source": [
    "# Calcular la suma de una cantidad de números enteros ingresados por el usuario directamente utilizando la función input (). \n",
    "\n",
    "# Para finalizar la ejecución del programa, el usuario debe escribir la palabra exit(). El programa debe validar dicha acción. \n",
    "\n",
    "# Finalmente, el algoritmo debe mostrar la suma parcial y total obtenida.\n"
   ]
  },
  {
   "cell_type": "code",
   "execution_count": null,
   "metadata": {},
   "outputs": [],
   "source": [
    "ingresar = input(\"Ingrese un numero o escriba 'exit' si quiere salir\") # completar"
   ]
  }
 ],
 "metadata": {
  "kernelspec": {
   "display_name": "Python 3",
   "language": "python",
   "name": "python3"
  },
  "language_info": {
   "name": "python",
   "version": "3.10.10"
  },
  "orig_nbformat": 4,
  "vscode": {
   "interpreter": {
    "hash": "3282607f385ea6f15702157e2a823b97e47a25ad58852c02230532c044fb265d"
   }
  }
 },
 "nbformat": 4,
 "nbformat_minor": 2
}
