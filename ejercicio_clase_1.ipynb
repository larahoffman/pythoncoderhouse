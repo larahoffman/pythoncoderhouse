{
 "cells": [
  {
   "cell_type": "code",
   "execution_count": null,
   "metadata": {},
   "outputs": [],
   "source": [
    "# Calcular el promedio final de los equipos de futbol en un torneo\n",
    "# Jugaron 20 partidos en total\n",
    "# Partidos ganados = 3pts, empatados = 1pt, perdidos = 0pts\n",
    "\n",
    "# Promedio = cant puntos totales divididos la cantidad de partidos\n",
    "# partidos_ganados = 8\n",
    "# partidos_empatados = 7\n",
    "# partidos_perdidos = 5"
   ]
  },
  {
   "cell_type": "code",
   "execution_count": null,
   "metadata": {},
   "outputs": [],
   "source": [
    "partidos_ganados = int(input(\"Ingrese la cantidad de partidos ganados: \"))\n",
    "partidos_empatados = int(input(\"Ingrese la cantidad de partidos empatados: \"))\n",
    "partidos_perdidos = int(input(\"Ingrese la cantidad de partidos perdidos: \"))\n",
    "cantidad_partidos = int(input(\"Ingrese la cantidad de partidos jugados en total\"))\n",
    "\n",
    "puntos_ganar = 3\n",
    "puntos_empatar = 1\n",
    "puntos_perder = 0\n",
    "\n",
    "promedio = (((partidos_ganados * puntos_ganar) + (partidos_empatados * puntos_empatar) + (partidos_perdidos * puntos_perder))/ cantidad_partidos)\n",
    "print(promedio)"
   ]
  },
  {
   "cell_type": "code",
   "execution_count": null,
   "metadata": {},
   "outputs": [],
   "source": [
    "# Dadas cuatro variables con diferentes textos, genera una nueva variable con el siguiente contenido:\n",
    "# “Python es un lenguaje de programación versátil”.\n",
    "\n",
    "cadena_1  = \"versátil\"\n",
    "cadena_2  = \"Python\"\n",
    "cadena_3  = \"es un lenguaje\"\n",
    "cadena_4  = \"de programación\"\n",
    "\n",
    "cadena_2341 = cadena_2 + \" \" + cadena_3 + \" \" + cadena_4 + \" \" + cadena_1\n",
    "cadena_2341"
   ]
  },
  {
   "cell_type": "code",
   "execution_count": null,
   "metadata": {},
   "outputs": [],
   "source": [
    "cadena = \"acitametaM ,5.8 ,otipeP ordeP\"\n",
    "cadena\n",
    "cadena_volteada = cadena[::-1] # la cadena volteada tiene 29caracteres\n",
    "# print(cadena_volteada)\n",
    "# len(cadena_volteada)\n",
    "nombre_alumno = cadena_volteada[0:12]\n",
    "nota = cadena_volteada[14:17]\n",
    "materia = cadena_volteada[19:30]\n",
    "\n",
    "cadena_formateada = nombre_alumno + \" ha sacado un \" + nota + \" en \" + materia\n",
    "print(cadena_formateada)"
   ]
  },
  {
   "cell_type": "code",
   "execution_count": null,
   "metadata": {},
   "outputs": [],
   "source": [
    "# Mi primer programa en Python\n",
    "# Crear un programa que calcule la nota final de estudiantes del curso de Python"
   ]
  },
  {
   "cell_type": "code",
   "execution_count": 1,
   "metadata": {},
   "outputs": [
    {
     "data": {
      "text/plain": [
       "9.0"
      ]
     },
     "execution_count": 1,
     "metadata": {},
     "output_type": "execute_result"
    }
   ],
   "source": [
    "# nota_1  cuenta como el 20% de la nota final\n",
    "nota_1 = float(input(\"Ingrese la primera nota\"))\n",
    "nota_1"
   ]
  },
  {
   "cell_type": "code",
   "execution_count": 2,
   "metadata": {},
   "outputs": [
    {
     "data": {
      "text/plain": [
       "5.0"
      ]
     },
     "execution_count": 2,
     "metadata": {},
     "output_type": "execute_result"
    }
   ],
   "source": [
    "# nota_2 cuenta como el 30% de la nota final\n",
    "nota_2 = float(input(\"Ingrese la segunda nota\"))\n",
    "nota_2"
   ]
  },
  {
   "cell_type": "code",
   "execution_count": 3,
   "metadata": {},
   "outputs": [
    {
     "data": {
      "text/plain": [
       "8.0"
      ]
     },
     "execution_count": 3,
     "metadata": {},
     "output_type": "execute_result"
    }
   ],
   "source": [
    "# nota_3 cuenta como el 50% de la nota final\n",
    "nota_3 = float(input(\"Ingrese la tercera nota\"))\n",
    "nota_3"
   ]
  },
  {
   "cell_type": "code",
   "execution_count": 4,
   "metadata": {},
   "outputs": [],
   "source": [
    "nota_1 = nota_1 * 0.2\n",
    "nota_2 = nota_2 * 0.3\n",
    "nota_3 = nota_3 * 0.5"
   ]
  },
  {
   "cell_type": "code",
   "execution_count": 5,
   "metadata": {},
   "outputs": [
    {
     "data": {
      "text/plain": [
       "7.3"
      ]
     },
     "execution_count": 5,
     "metadata": {},
     "output_type": "execute_result"
    }
   ],
   "source": [
    "# La nota final\n",
    "\n",
    "nota_final = nota_1 + nota_2 + nota_3\n",
    "nota_final"
   ]
  },
  {
   "cell_type": "code",
   "execution_count": 8,
   "metadata": {},
   "outputs": [
    {
     "name": "stdout",
     "output_type": "stream",
     "text": [
      "La nota final del alumno es 7.3\n"
     ]
    }
   ],
   "source": [
    "txt = f\"La nota final del alumno es {nota_final}\"\n",
    "print(txt)"
   ]
  }
 ],
 "metadata": {
  "kernelspec": {
   "display_name": "Python 3.10.9 64-bit (microsoft store)",
   "language": "python",
   "name": "python3"
  },
  "language_info": {
   "codemirror_mode": {
    "name": "ipython",
    "version": 3
   },
   "file_extension": ".py",
   "mimetype": "text/x-python",
   "name": "python",
   "nbconvert_exporter": "python",
   "pygments_lexer": "ipython3",
   "version": "3.10.10"
  },
  "orig_nbformat": 4,
  "vscode": {
   "interpreter": {
    "hash": "3282607f385ea6f15702157e2a823b97e47a25ad58852c02230532c044fb265d"
   }
  }
 },
 "nbformat": 4,
 "nbformat_minor": 2
}
